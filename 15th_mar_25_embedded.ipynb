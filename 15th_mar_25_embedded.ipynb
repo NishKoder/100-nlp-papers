{
  "nbformat": 4,
  "nbformat_minor": 0,
  "metadata": {
    "colab": {
      "provenance": [],
      "authorship_tag": "ABX9TyNYN2vEQ1zrtAA2od/IW7rw",
      "include_colab_link": true
    },
    "kernelspec": {
      "name": "python3",
      "display_name": "Python 3"
    },
    "language_info": {
      "name": "python"
    }
  },
  "cells": [
    {
      "cell_type": "markdown",
      "metadata": {
        "id": "view-in-github",
        "colab_type": "text"
      },
      "source": [
        "<a href=\"https://colab.research.google.com/github/NishKoder/100-nlp-papers/blob/master/15th_mar_25_embedded.ipynb\" target=\"_parent\"><img src=\"https://colab.research.google.com/assets/colab-badge.svg\" alt=\"Open In Colab\"/></a>"
      ]
    },
    {
      "cell_type": "code",
      "execution_count": 1,
      "metadata": {
        "id": "2gN2hLwxcw_s"
      },
      "outputs": [],
      "source": [
        "corpus = [\"I love NLP\", \"I love to teach gen ai as blogger\", \"I have uploaded video at medium\"]"
      ]
    },
    {
      "cell_type": "code",
      "source": [
        "unique_words = set(\" \".join(corpus).split())"
      ],
      "metadata": {
        "id": "qsfUz2Kt2rdB"
      },
      "execution_count": 3,
      "outputs": []
    },
    {
      "cell_type": "code",
      "source": [
        "unique_words"
      ],
      "metadata": {
        "colab": {
          "base_uri": "https://localhost:8080/"
        },
        "id": "Ec_MnNW62yxm",
        "outputId": "642951bb-c531-42c8-a62d-474e5ea3bec1"
      },
      "execution_count": 4,
      "outputs": [
        {
          "output_type": "execute_result",
          "data": {
            "text/plain": [
              "{'I',\n",
              " 'NLP',\n",
              " 'ai',\n",
              " 'as',\n",
              " 'at',\n",
              " 'blogger',\n",
              " 'gen',\n",
              " 'have',\n",
              " 'love',\n",
              " 'medium',\n",
              " 'teach',\n",
              " 'to',\n",
              " 'uploaded',\n",
              " 'video'}"
            ]
          },
          "metadata": {},
          "execution_count": 4
        }
      ]
    },
    {
      "cell_type": "code",
      "source": [
        "for i in enumerate(unique_words):\n",
        "  print(i)"
      ],
      "metadata": {
        "colab": {
          "base_uri": "https://localhost:8080/"
        },
        "id": "H7hsPgHO25Bn",
        "outputId": "76cc4857-142a-4063-a13f-9d3d8e2e47ed"
      },
      "execution_count": 5,
      "outputs": [
        {
          "output_type": "stream",
          "name": "stdout",
          "text": [
            "(0, 'to')\n",
            "(1, 'I')\n",
            "(2, 'video')\n",
            "(3, 'uploaded')\n",
            "(4, 'love')\n",
            "(5, 'gen')\n",
            "(6, 'have')\n",
            "(7, 'at')\n",
            "(8, 'teach')\n",
            "(9, 'medium')\n",
            "(10, 'blogger')\n",
            "(11, 'ai')\n",
            "(12, 'as')\n",
            "(13, 'NLP')\n"
          ]
        }
      ]
    },
    {
      "cell_type": "code",
      "source": [
        "word_to_index = { word:i for i, word in enumerate(unique_words)}"
      ],
      "metadata": {
        "id": "c61q-woO3oA_"
      },
      "execution_count": 7,
      "outputs": []
    },
    {
      "cell_type": "code",
      "source": [
        "word_to_index"
      ],
      "metadata": {
        "colab": {
          "base_uri": "https://localhost:8080/"
        },
        "id": "wpFalZo23sZg",
        "outputId": "5b1927ef-41ce-4d23-815e-46f5ddb4a7dd"
      },
      "execution_count": 8,
      "outputs": [
        {
          "output_type": "execute_result",
          "data": {
            "text/plain": [
              "{'to': 0,\n",
              " 'I': 1,\n",
              " 'video': 2,\n",
              " 'uploaded': 3,\n",
              " 'love': 4,\n",
              " 'gen': 5,\n",
              " 'have': 6,\n",
              " 'at': 7,\n",
              " 'teach': 8,\n",
              " 'medium': 9,\n",
              " 'blogger': 10,\n",
              " 'ai': 11,\n",
              " 'as': 12,\n",
              " 'NLP': 13}"
            ]
          },
          "metadata": {},
          "execution_count": 8
        }
      ]
    },
    {
      "cell_type": "code",
      "source": [
        "one_hot_encoder = []\n",
        "for sentence in corpus:\n",
        "  sentence_vector = []\n",
        "  for word in sentence.split():\n",
        "    vector = [0] * len(unique_words)\n",
        "    vector[word_to_index[word]] = 1\n",
        "    sentence_vector.append(vector)\n",
        "  one_hot_encoder.append(sentence_vector)"
      ],
      "metadata": {
        "id": "-X00eJCG4DqB"
      },
      "execution_count": 11,
      "outputs": []
    },
    {
      "cell_type": "code",
      "source": [
        "one_hot_encoder"
      ],
      "metadata": {
        "colab": {
          "base_uri": "https://localhost:8080/"
        },
        "id": "twlZrrID6ep_",
        "outputId": "44e0618b-7575-42de-cb59-5c0c8234ef7d"
      },
      "execution_count": 12,
      "outputs": [
        {
          "output_type": "execute_result",
          "data": {
            "text/plain": [
              "[[[0, 1, 0, 0, 0, 0, 0, 0, 0, 0, 0, 0, 0, 0],\n",
              "  [0, 0, 0, 0, 1, 0, 0, 0, 0, 0, 0, 0, 0, 0],\n",
              "  [0, 0, 0, 0, 0, 0, 0, 0, 0, 0, 0, 0, 0, 1]],\n",
              " [[0, 1, 0, 0, 0, 0, 0, 0, 0, 0, 0, 0, 0, 0],\n",
              "  [0, 0, 0, 0, 1, 0, 0, 0, 0, 0, 0, 0, 0, 0],\n",
              "  [1, 0, 0, 0, 0, 0, 0, 0, 0, 0, 0, 0, 0, 0],\n",
              "  [0, 0, 0, 0, 0, 0, 0, 0, 1, 0, 0, 0, 0, 0],\n",
              "  [0, 0, 0, 0, 0, 1, 0, 0, 0, 0, 0, 0, 0, 0],\n",
              "  [0, 0, 0, 0, 0, 0, 0, 0, 0, 0, 0, 1, 0, 0],\n",
              "  [0, 0, 0, 0, 0, 0, 0, 0, 0, 0, 0, 0, 1, 0],\n",
              "  [0, 0, 0, 0, 0, 0, 0, 0, 0, 0, 1, 0, 0, 0]],\n",
              " [[0, 1, 0, 0, 0, 0, 0, 0, 0, 0, 0, 0, 0, 0],\n",
              "  [0, 0, 0, 0, 0, 0, 1, 0, 0, 0, 0, 0, 0, 0],\n",
              "  [0, 0, 0, 1, 0, 0, 0, 0, 0, 0, 0, 0, 0, 0],\n",
              "  [0, 0, 1, 0, 0, 0, 0, 0, 0, 0, 0, 0, 0, 0],\n",
              "  [0, 0, 0, 0, 0, 0, 0, 1, 0, 0, 0, 0, 0, 0],\n",
              "  [0, 0, 0, 0, 0, 0, 0, 0, 0, 1, 0, 0, 0, 0]]]"
            ]
          },
          "metadata": {},
          "execution_count": 12
        }
      ]
    },
    {
      "cell_type": "code",
      "source": [
        "# Bag Of Word\n",
        "from sklearn.feature_extraction.text import CountVectorizer\n",
        "vector = CountVectorizer()\n",
        "vector.fit_transform(corpus).toarray()"
      ],
      "metadata": {
        "colab": {
          "base_uri": "https://localhost:8080/"
        },
        "id": "B9W1Ev6h6fnE",
        "outputId": "ee4701eb-66c2-4ca8-f1fc-e389f2b654ee"
      },
      "execution_count": 13,
      "outputs": [
        {
          "output_type": "execute_result",
          "data": {
            "text/plain": [
              "array([[0, 0, 0, 0, 0, 0, 1, 0, 1, 0, 0, 0, 0],\n",
              "       [1, 1, 0, 1, 1, 0, 1, 0, 0, 1, 1, 0, 0],\n",
              "       [0, 0, 1, 0, 0, 1, 0, 1, 0, 0, 0, 1, 1]])"
            ]
          },
          "metadata": {},
          "execution_count": 13
        }
      ]
    },
    {
      "cell_type": "code",
      "source": [
        "vector.get_feature_names_out()"
      ],
      "metadata": {
        "colab": {
          "base_uri": "https://localhost:8080/"
        },
        "id": "kWM8sRTMH2qr",
        "outputId": "293ee226-dd3e-4cba-baf4-cace33cf70e8"
      },
      "execution_count": 14,
      "outputs": [
        {
          "output_type": "execute_result",
          "data": {
            "text/plain": [
              "array(['ai', 'as', 'at', 'blogger', 'gen', 'have', 'love', 'medium',\n",
              "       'nlp', 'teach', 'to', 'uploaded', 'video'], dtype=object)"
            ]
          },
          "metadata": {},
          "execution_count": 14
        }
      ]
    },
    {
      "cell_type": "code",
      "source": [
        "# TD-IDF\n",
        "from sklearn.feature_extraction.text import TfidfVectorizer\n",
        "vector = TfidfVectorizer()\n",
        "vector.fit_transform(corpus).toarray()"
      ],
      "metadata": {
        "colab": {
          "base_uri": "https://localhost:8080/"
        },
        "id": "OWlDhiDvH6p2",
        "outputId": "6bf9aaaa-504f-4602-fd42-9b2c936696e7"
      },
      "execution_count": 15,
      "outputs": [
        {
          "output_type": "execute_result",
          "data": {
            "text/plain": [
              "array([[0.        , 0.        , 0.        , 0.        , 0.        ,\n",
              "        0.        , 0.60534851, 0.        , 0.79596054, 0.        ,\n",
              "        0.        , 0.        , 0.        ],\n",
              "       [0.38988801, 0.38988801, 0.        , 0.38988801, 0.38988801,\n",
              "        0.        , 0.29651988, 0.        , 0.        , 0.38988801,\n",
              "        0.38988801, 0.        , 0.        ],\n",
              "       [0.        , 0.        , 0.4472136 , 0.        , 0.        ,\n",
              "        0.4472136 , 0.        , 0.4472136 , 0.        , 0.        ,\n",
              "        0.        , 0.4472136 , 0.4472136 ]])"
            ]
          },
          "metadata": {},
          "execution_count": 15
        }
      ]
    },
    {
      "cell_type": "code",
      "source": [],
      "metadata": {
        "id": "PqktYDNIfErF"
      },
      "execution_count": null,
      "outputs": []
    }
  ]
}